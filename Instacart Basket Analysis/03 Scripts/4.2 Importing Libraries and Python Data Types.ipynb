{
 "cells": [
  {
   "cell_type": "markdown",
   "id": "3707a069",
   "metadata": {},
   "source": [
    "# Table of Contents\n",
    "###  01: Import Libraries and Data\n",
    "### 02: Data Types\n",
    "### 03: Python Data Types"
   ]
  },
  {
   "cell_type": "markdown",
   "id": "6852bba7",
   "metadata": {},
   "source": [
    "# 01. Importing Libraries"
   ]
  },
  {
   "cell_type": "code",
   "execution_count": 4,
   "id": "53886459",
   "metadata": {},
   "outputs": [],
   "source": [
    "# Import Libraries\n",
    "import pandas as pd\n",
    "import numpy as np\n",
    "import os"
   ]
  },
  {
   "cell_type": "markdown",
   "id": "eaf7dbe3",
   "metadata": {},
   "source": [
    "# 02. Data Types"
   ]
  },
  {
   "cell_type": "code",
   "execution_count": 4,
   "id": "eb087a6a",
   "metadata": {},
   "outputs": [],
   "source": [
    "x = 2"
   ]
  },
  {
   "cell_type": "code",
   "execution_count": 5,
   "id": "fbed794b",
   "metadata": {},
   "outputs": [
    {
     "data": {
      "text/plain": [
       "2"
      ]
     },
     "execution_count": 5,
     "metadata": {},
     "output_type": "execute_result"
    }
   ],
   "source": [
    "x"
   ]
  },
  {
   "cell_type": "code",
   "execution_count": 6,
   "id": "9121d160",
   "metadata": {},
   "outputs": [
    {
     "name": "stdout",
     "output_type": "stream",
     "text": [
      "2\n"
     ]
    }
   ],
   "source": [
    "print(x)"
   ]
  },
  {
   "cell_type": "code",
   "execution_count": 7,
   "id": "e3b21be6",
   "metadata": {},
   "outputs": [
    {
     "data": {
      "text/plain": [
       "int"
      ]
     },
     "execution_count": 7,
     "metadata": {},
     "output_type": "execute_result"
    }
   ],
   "source": [
    "type(x)"
   ]
  },
  {
   "cell_type": "code",
   "execution_count": 8,
   "id": "db447207",
   "metadata": {},
   "outputs": [],
   "source": [
    "y = 5.678"
   ]
  },
  {
   "cell_type": "code",
   "execution_count": 9,
   "id": "7420e90f",
   "metadata": {},
   "outputs": [
    {
     "data": {
      "text/plain": [
       "float"
      ]
     },
     "execution_count": 9,
     "metadata": {},
     "output_type": "execute_result"
    }
   ],
   "source": [
    "type(y)"
   ]
  },
  {
   "cell_type": "code",
   "execution_count": 10,
   "id": "7b985a13",
   "metadata": {},
   "outputs": [],
   "source": [
    "z = 'Brazil'"
   ]
  },
  {
   "cell_type": "code",
   "execution_count": 11,
   "id": "4b1e96ee",
   "metadata": {},
   "outputs": [
    {
     "data": {
      "text/plain": [
       "str"
      ]
     },
     "execution_count": 11,
     "metadata": {},
     "output_type": "execute_result"
    }
   ],
   "source": [
    "type(z)"
   ]
  },
  {
   "cell_type": "code",
   "execution_count": 13,
   "id": "05fb85a7",
   "metadata": {},
   "outputs": [
    {
     "data": {
      "text/plain": [
       "bool"
      ]
     },
     "execution_count": 13,
     "metadata": {},
     "output_type": "execute_result"
    }
   ],
   "source": [
    "type(True)"
   ]
  },
  {
   "cell_type": "code",
   "execution_count": 14,
   "id": "a0ce6999",
   "metadata": {},
   "outputs": [
    {
     "data": {
      "text/plain": [
       "6"
      ]
     },
     "execution_count": 14,
     "metadata": {},
     "output_type": "execute_result"
    }
   ],
   "source": [
    "x + 4"
   ]
  },
  {
   "cell_type": "code",
   "execution_count": 15,
   "id": "c2059ed0",
   "metadata": {},
   "outputs": [],
   "source": [
    "x = x + 4"
   ]
  },
  {
   "cell_type": "code",
   "execution_count": 16,
   "id": "726ec231",
   "metadata": {},
   "outputs": [
    {
     "name": "stdout",
     "output_type": "stream",
     "text": [
      "6\n"
     ]
    }
   ],
   "source": [
    "print(x)"
   ]
  },
  {
   "cell_type": "code",
   "execution_count": 17,
   "id": "683c647e",
   "metadata": {},
   "outputs": [],
   "source": [
    "a = 'Hello, '"
   ]
  },
  {
   "cell_type": "code",
   "execution_count": 18,
   "id": "237989f0",
   "metadata": {},
   "outputs": [],
   "source": [
    "b = 'Marley'"
   ]
  },
  {
   "cell_type": "code",
   "execution_count": 19,
   "id": "dc795cdd",
   "metadata": {},
   "outputs": [
    {
     "data": {
      "text/plain": [
       "'Hello, Marley'"
      ]
     },
     "execution_count": 19,
     "metadata": {},
     "output_type": "execute_result"
    }
   ],
   "source": [
    "a+b"
   ]
  },
  {
   "cell_type": "code",
   "execution_count": 20,
   "id": "33ef56aa",
   "metadata": {},
   "outputs": [],
   "source": [
    "n = 'potato'"
   ]
  },
  {
   "cell_type": "code",
   "execution_count": 21,
   "id": "79ca78bd",
   "metadata": {},
   "outputs": [
    {
     "data": {
      "text/plain": [
       "'potatopotatopotatopotatopotatopotatopotatopotatopotatopotatopotatopotato'"
      ]
     },
     "execution_count": 21,
     "metadata": {},
     "output_type": "execute_result"
    }
   ],
   "source": [
    "n * 12"
   ]
  },
  {
   "cell_type": "code",
   "execution_count": 22,
   "id": "c1846b14",
   "metadata": {},
   "outputs": [
    {
     "data": {
      "text/plain": [
       "False"
      ]
     },
     "execution_count": 22,
     "metadata": {},
     "output_type": "execute_result"
    }
   ],
   "source": [
    "x == y"
   ]
  },
  {
   "cell_type": "code",
   "execution_count": 23,
   "id": "6a7fa598",
   "metadata": {},
   "outputs": [
    {
     "data": {
      "text/plain": [
       "bool"
      ]
     },
     "execution_count": 23,
     "metadata": {},
     "output_type": "execute_result"
    }
   ],
   "source": [
    "type(x==y)"
   ]
  },
  {
   "cell_type": "markdown",
   "id": "597e8a57",
   "metadata": {},
   "source": [
    "# 03. Python Data Types"
   ]
  },
  {
   "cell_type": "code",
   "execution_count": 2,
   "id": "e28bcbdf",
   "metadata": {},
   "outputs": [],
   "source": [
    "x = 45"
   ]
  },
  {
   "cell_type": "code",
   "execution_count": 3,
   "id": "25abf846",
   "metadata": {},
   "outputs": [
    {
     "data": {
      "text/plain": [
       "100"
      ]
     },
     "execution_count": 3,
     "metadata": {},
     "output_type": "execute_result"
    }
   ],
   "source": [
    "x + 55"
   ]
  },
  {
   "cell_type": "code",
   "execution_count": 4,
   "id": "5dadc658",
   "metadata": {},
   "outputs": [
    {
     "data": {
      "text/plain": [
       "100"
      ]
     },
     "execution_count": 4,
     "metadata": {},
     "output_type": "execute_result"
    }
   ],
   "source": [
    "145 - x"
   ]
  },
  {
   "cell_type": "code",
   "execution_count": 5,
   "id": "b2aea9a3",
   "metadata": {},
   "outputs": [],
   "source": [
    "x = x + 5"
   ]
  },
  {
   "cell_type": "code",
   "execution_count": 6,
   "id": "1fcc0240",
   "metadata": {},
   "outputs": [
    {
     "data": {
      "text/plain": [
       "100.0"
      ]
     },
     "execution_count": 6,
     "metadata": {},
     "output_type": "execute_result"
    }
   ],
   "source": [
    "5000 / x"
   ]
  },
  {
   "cell_type": "code",
   "execution_count": 7,
   "id": "b8eb7829",
   "metadata": {},
   "outputs": [],
   "source": [
    "y = 4.23"
   ]
  },
  {
   "cell_type": "code",
   "execution_count": 8,
   "id": "c5f43772",
   "metadata": {},
   "outputs": [],
   "source": [
    "z = 1.765"
   ]
  },
  {
   "cell_type": "code",
   "execution_count": 9,
   "id": "db499247",
   "metadata": {},
   "outputs": [
    {
     "data": {
      "text/plain": [
       "2.3966005665722383"
      ]
     },
     "execution_count": 9,
     "metadata": {},
     "output_type": "execute_result"
    }
   ],
   "source": [
    "y / z"
   ]
  },
  {
   "cell_type": "code",
   "execution_count": 10,
   "id": "dd73d42d",
   "metadata": {},
   "outputs": [],
   "source": [
    "s = 'side'"
   ]
  },
  {
   "cell_type": "code",
   "execution_count": 22,
   "id": "e461857f",
   "metadata": {},
   "outputs": [],
   "source": [
    "w = 'walk '"
   ]
  },
  {
   "cell_type": "code",
   "execution_count": 23,
   "id": "155349dd",
   "metadata": {},
   "outputs": [
    {
     "data": {
      "text/plain": [
       "'sidewalk '"
      ]
     },
     "execution_count": 23,
     "metadata": {},
     "output_type": "execute_result"
    }
   ],
   "source": [
    "s+w"
   ]
  },
  {
   "cell_type": "code",
   "execution_count": 18,
   "id": "f3c45577",
   "metadata": {},
   "outputs": [],
   "source": [
    "t = 'the '"
   ]
  },
  {
   "cell_type": "code",
   "execution_count": 19,
   "id": "c424d136",
   "metadata": {},
   "outputs": [],
   "source": [
    "i = 'is '"
   ]
  },
  {
   "cell_type": "code",
   "execution_count": 20,
   "id": "405e98e8",
   "metadata": {},
   "outputs": [],
   "source": [
    "d = 'dirty '"
   ]
  },
  {
   "cell_type": "code",
   "execution_count": 21,
   "id": "7eedf032",
   "metadata": {},
   "outputs": [],
   "source": [
    "f = 'floor '"
   ]
  },
  {
   "cell_type": "code",
   "execution_count": 24,
   "id": "419dc48a",
   "metadata": {},
   "outputs": [],
   "source": [
    "b = 'board '"
   ]
  },
  {
   "cell_type": "code",
   "execution_count": 25,
   "id": "e663538e",
   "metadata": {},
   "outputs": [],
   "source": [
    "c = 'clean'"
   ]
  },
  {
   "cell_type": "code",
   "execution_count": 26,
   "id": "7611b68d",
   "metadata": {},
   "outputs": [
    {
     "data": {
      "text/plain": [
       "'the sidewalk is dirty '"
      ]
     },
     "execution_count": 26,
     "metadata": {},
     "output_type": "execute_result"
    }
   ],
   "source": [
    "t + s + w + i + d"
   ]
  },
  {
   "cell_type": "code",
   "execution_count": 27,
   "id": "667c3389",
   "metadata": {},
   "outputs": [
    {
     "data": {
      "text/plain": [
       "'the floor board is clean'"
      ]
     },
     "execution_count": 27,
     "metadata": {},
     "output_type": "execute_result"
    }
   ],
   "source": [
    "t + f + b + i + c"
   ]
  },
  {
   "cell_type": "code",
   "execution_count": 28,
   "id": "d83c046d",
   "metadata": {},
   "outputs": [
    {
     "data": {
      "text/plain": [
       "'cleancleancleancleancleancleancleancleancleancleancleancleancleancleancleancleancleancleancleancleancleancleancleancleancleancleancleancleancleancleancleancleancleancleancleancleancleancleancleancleancleancleancleancleancleancleancleancleancleancleancleancleancleancleancleancleancleancleancleancleancleancleancleancleancleancleancleancleancleancleancleancleancleancleancleancleancleancleancleancleancleancleancleancleancleancleancleancleancleancleancleancleancleancleancleancleancleancleancleanclean'"
      ]
     },
     "execution_count": 28,
     "metadata": {},
     "output_type": "execute_result"
    }
   ],
   "source": [
    "c * 100"
   ]
  },
  {
   "cell_type": "code",
   "execution_count": null,
   "id": "d6770261",
   "metadata": {},
   "outputs": [],
   "source": []
  }
 ],
 "metadata": {
  "kernelspec": {
   "display_name": "Python 3 (ipykernel)",
   "language": "python",
   "name": "python3"
  },
  "language_info": {
   "codemirror_mode": {
    "name": "ipython",
    "version": 3
   },
   "file_extension": ".py",
   "mimetype": "text/x-python",
   "name": "python",
   "nbconvert_exporter": "python",
   "pygments_lexer": "ipython3",
   "version": "3.11.4"
  }
 },
 "nbformat": 4,
 "nbformat_minor": 5
}
