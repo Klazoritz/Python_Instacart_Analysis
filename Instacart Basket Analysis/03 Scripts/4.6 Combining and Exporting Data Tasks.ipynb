{
 "cells": [
  {
   "cell_type": "markdown",
   "id": "bfa5d096",
   "metadata": {},
   "source": [
    "# Table of Contents\n",
    "###  01: Import Libraries and Data\n",
    "### 02: Merge Data\n",
    "### 03: Export Dataframes"
   ]
  },
  {
   "cell_type": "markdown",
   "id": "a025c66b",
   "metadata": {},
   "source": [
    "# 01. Import Libraries and Data"
   ]
  },
  {
   "cell_type": "code",
   "execution_count": 1,
   "id": "38372384",
   "metadata": {},
   "outputs": [],
   "source": [
    "# Import libraries\n",
    "import pandas as pd\n",
    "import numpy as np\n",
    "import os"
   ]
  },
  {
   "cell_type": "code",
   "execution_count": 2,
   "id": "4fbb6577",
   "metadata": {},
   "outputs": [],
   "source": [
    "path = r'/Users/Katherine/Desktop/Instacart Basket Analysis'"
   ]
  },
  {
   "cell_type": "code",
   "execution_count": 3,
   "id": "7e7abaff",
   "metadata": {},
   "outputs": [],
   "source": [
    "# Task 3 - Import Orders_products_combined Data\n",
    "orders_products_combined = pd.read_pickle(os.path.join(path, '02 Data', 'Prepared Data', 'orders_products_combined.pkl'))"
   ]
  },
  {
   "cell_type": "code",
   "execution_count": 4,
   "id": "d4382a57",
   "metadata": {},
   "outputs": [
    {
     "data": {
      "text/plain": [
       "(32434489, 10)"
      ]
     },
     "execution_count": 4,
     "metadata": {},
     "output_type": "execute_result"
    }
   ],
   "source": [
    "# Task 4 - check imported orders_products_combined\n",
    "orders_products_combined.shape"
   ]
  },
  {
   "cell_type": "code",
   "execution_count": 5,
   "id": "b79662c4",
   "metadata": {},
   "outputs": [],
   "source": [
    "#Import Products Data\n",
    "df2 = pd.read_csv(os.path.join(path, '02 Data', 'Prepared Data', 'products_checked.csv'), index_col = False)"
   ]
  },
  {
   "cell_type": "code",
   "execution_count": 6,
   "id": "54d9c215",
   "metadata": {},
   "outputs": [
    {
     "data": {
      "text/html": [
       "<div>\n",
       "<style scoped>\n",
       "    .dataframe tbody tr th:only-of-type {\n",
       "        vertical-align: middle;\n",
       "    }\n",
       "\n",
       "    .dataframe tbody tr th {\n",
       "        vertical-align: top;\n",
       "    }\n",
       "\n",
       "    .dataframe thead th {\n",
       "        text-align: right;\n",
       "    }\n",
       "</style>\n",
       "<table border=\"1\" class=\"dataframe\">\n",
       "  <thead>\n",
       "    <tr style=\"text-align: right;\">\n",
       "      <th></th>\n",
       "      <th>Unnamed: 0</th>\n",
       "      <th>product_id</th>\n",
       "      <th>product_name</th>\n",
       "      <th>aisle_id</th>\n",
       "      <th>department_id</th>\n",
       "      <th>prices</th>\n",
       "    </tr>\n",
       "  </thead>\n",
       "  <tbody>\n",
       "    <tr>\n",
       "      <th>0</th>\n",
       "      <td>0</td>\n",
       "      <td>1</td>\n",
       "      <td>Chocolate Sandwich Cookies</td>\n",
       "      <td>61</td>\n",
       "      <td>19</td>\n",
       "      <td>5.8</td>\n",
       "    </tr>\n",
       "    <tr>\n",
       "      <th>1</th>\n",
       "      <td>1</td>\n",
       "      <td>2</td>\n",
       "      <td>All-Seasons Salt</td>\n",
       "      <td>104</td>\n",
       "      <td>13</td>\n",
       "      <td>9.3</td>\n",
       "    </tr>\n",
       "    <tr>\n",
       "      <th>2</th>\n",
       "      <td>2</td>\n",
       "      <td>3</td>\n",
       "      <td>Robust Golden Unsweetened Oolong Tea</td>\n",
       "      <td>94</td>\n",
       "      <td>7</td>\n",
       "      <td>4.5</td>\n",
       "    </tr>\n",
       "    <tr>\n",
       "      <th>3</th>\n",
       "      <td>3</td>\n",
       "      <td>4</td>\n",
       "      <td>Smart Ones Classic Favorites Mini Rigatoni Wit...</td>\n",
       "      <td>38</td>\n",
       "      <td>1</td>\n",
       "      <td>10.5</td>\n",
       "    </tr>\n",
       "    <tr>\n",
       "      <th>4</th>\n",
       "      <td>4</td>\n",
       "      <td>5</td>\n",
       "      <td>Green Chile Anytime Sauce</td>\n",
       "      <td>5</td>\n",
       "      <td>13</td>\n",
       "      <td>4.3</td>\n",
       "    </tr>\n",
       "  </tbody>\n",
       "</table>\n",
       "</div>"
      ],
      "text/plain": [
       "   Unnamed: 0  product_id                                       product_name  \\\n",
       "0           0           1                         Chocolate Sandwich Cookies   \n",
       "1           1           2                                   All-Seasons Salt   \n",
       "2           2           3               Robust Golden Unsweetened Oolong Tea   \n",
       "3           3           4  Smart Ones Classic Favorites Mini Rigatoni Wit...   \n",
       "4           4           5                          Green Chile Anytime Sauce   \n",
       "\n",
       "   aisle_id  department_id  prices  \n",
       "0        61             19     5.8  \n",
       "1       104             13     9.3  \n",
       "2        94              7     4.5  \n",
       "3        38              1    10.5  \n",
       "4         5             13     4.3  "
      ]
     },
     "execution_count": 6,
     "metadata": {},
     "output_type": "execute_result"
    }
   ],
   "source": [
    "#check output\n",
    "df2.head()"
   ]
  },
  {
   "cell_type": "code",
   "execution_count": 7,
   "id": "a51bb729",
   "metadata": {},
   "outputs": [
    {
     "data": {
      "text/html": [
       "<div>\n",
       "<style scoped>\n",
       "    .dataframe tbody tr th:only-of-type {\n",
       "        vertical-align: middle;\n",
       "    }\n",
       "\n",
       "    .dataframe tbody tr th {\n",
       "        vertical-align: top;\n",
       "    }\n",
       "\n",
       "    .dataframe thead th {\n",
       "        text-align: right;\n",
       "    }\n",
       "</style>\n",
       "<table border=\"1\" class=\"dataframe\">\n",
       "  <thead>\n",
       "    <tr style=\"text-align: right;\">\n",
       "      <th></th>\n",
       "      <th>order_id</th>\n",
       "      <th>user_id</th>\n",
       "      <th>order_number</th>\n",
       "      <th>orders_day_of_week</th>\n",
       "      <th>order_time</th>\n",
       "      <th>days_since_prior_order</th>\n",
       "      <th>product_id</th>\n",
       "      <th>add_to_cart_order</th>\n",
       "      <th>reordered</th>\n",
       "      <th>_merge</th>\n",
       "    </tr>\n",
       "  </thead>\n",
       "  <tbody>\n",
       "    <tr>\n",
       "      <th>0</th>\n",
       "      <td>2539329</td>\n",
       "      <td>1</td>\n",
       "      <td>1</td>\n",
       "      <td>2</td>\n",
       "      <td>8</td>\n",
       "      <td>NaN</td>\n",
       "      <td>196</td>\n",
       "      <td>1</td>\n",
       "      <td>0</td>\n",
       "      <td>both</td>\n",
       "    </tr>\n",
       "    <tr>\n",
       "      <th>1</th>\n",
       "      <td>2539329</td>\n",
       "      <td>1</td>\n",
       "      <td>1</td>\n",
       "      <td>2</td>\n",
       "      <td>8</td>\n",
       "      <td>NaN</td>\n",
       "      <td>14084</td>\n",
       "      <td>2</td>\n",
       "      <td>0</td>\n",
       "      <td>both</td>\n",
       "    </tr>\n",
       "    <tr>\n",
       "      <th>2</th>\n",
       "      <td>2539329</td>\n",
       "      <td>1</td>\n",
       "      <td>1</td>\n",
       "      <td>2</td>\n",
       "      <td>8</td>\n",
       "      <td>NaN</td>\n",
       "      <td>12427</td>\n",
       "      <td>3</td>\n",
       "      <td>0</td>\n",
       "      <td>both</td>\n",
       "    </tr>\n",
       "    <tr>\n",
       "      <th>3</th>\n",
       "      <td>2539329</td>\n",
       "      <td>1</td>\n",
       "      <td>1</td>\n",
       "      <td>2</td>\n",
       "      <td>8</td>\n",
       "      <td>NaN</td>\n",
       "      <td>26088</td>\n",
       "      <td>4</td>\n",
       "      <td>0</td>\n",
       "      <td>both</td>\n",
       "    </tr>\n",
       "    <tr>\n",
       "      <th>4</th>\n",
       "      <td>2539329</td>\n",
       "      <td>1</td>\n",
       "      <td>1</td>\n",
       "      <td>2</td>\n",
       "      <td>8</td>\n",
       "      <td>NaN</td>\n",
       "      <td>26405</td>\n",
       "      <td>5</td>\n",
       "      <td>0</td>\n",
       "      <td>both</td>\n",
       "    </tr>\n",
       "  </tbody>\n",
       "</table>\n",
       "</div>"
      ],
      "text/plain": [
       "   order_id  user_id  order_number  orders_day_of_week  order_time  \\\n",
       "0   2539329        1             1                   2           8   \n",
       "1   2539329        1             1                   2           8   \n",
       "2   2539329        1             1                   2           8   \n",
       "3   2539329        1             1                   2           8   \n",
       "4   2539329        1             1                   2           8   \n",
       "\n",
       "   days_since_prior_order  product_id  add_to_cart_order  reordered _merge  \n",
       "0                     NaN         196                  1          0   both  \n",
       "1                     NaN       14084                  2          0   both  \n",
       "2                     NaN       12427                  3          0   both  \n",
       "3                     NaN       26088                  4          0   both  \n",
       "4                     NaN       26405                  5          0   both  "
      ]
     },
     "execution_count": 7,
     "metadata": {},
     "output_type": "execute_result"
    }
   ],
   "source": [
    "#check output \n",
    "orders_products_combined.head()"
   ]
  },
  {
   "cell_type": "code",
   "execution_count": 8,
   "id": "54bd0ce4",
   "metadata": {},
   "outputs": [
    {
     "data": {
      "text/plain": [
       "(49672, 6)"
      ]
     },
     "execution_count": 8,
     "metadata": {},
     "output_type": "execute_result"
    }
   ],
   "source": [
    "df2.shape"
   ]
  },
  {
   "cell_type": "code",
   "execution_count": 10,
   "id": "ade70c17",
   "metadata": {},
   "outputs": [
    {
     "data": {
      "text/html": [
       "<div>\n",
       "<style scoped>\n",
       "    .dataframe tbody tr th:only-of-type {\n",
       "        vertical-align: middle;\n",
       "    }\n",
       "\n",
       "    .dataframe tbody tr th {\n",
       "        vertical-align: top;\n",
       "    }\n",
       "\n",
       "    .dataframe thead th {\n",
       "        text-align: right;\n",
       "    }\n",
       "</style>\n",
       "<table border=\"1\" class=\"dataframe\">\n",
       "  <thead>\n",
       "    <tr style=\"text-align: right;\">\n",
       "      <th></th>\n",
       "      <th>product_id</th>\n",
       "      <th>product_name</th>\n",
       "      <th>aisle_id</th>\n",
       "      <th>department_id</th>\n",
       "      <th>prices</th>\n",
       "    </tr>\n",
       "  </thead>\n",
       "  <tbody>\n",
       "    <tr>\n",
       "      <th>0</th>\n",
       "      <td>1</td>\n",
       "      <td>Chocolate Sandwich Cookies</td>\n",
       "      <td>61</td>\n",
       "      <td>19</td>\n",
       "      <td>5.8</td>\n",
       "    </tr>\n",
       "    <tr>\n",
       "      <th>1</th>\n",
       "      <td>2</td>\n",
       "      <td>All-Seasons Salt</td>\n",
       "      <td>104</td>\n",
       "      <td>13</td>\n",
       "      <td>9.3</td>\n",
       "    </tr>\n",
       "    <tr>\n",
       "      <th>2</th>\n",
       "      <td>3</td>\n",
       "      <td>Robust Golden Unsweetened Oolong Tea</td>\n",
       "      <td>94</td>\n",
       "      <td>7</td>\n",
       "      <td>4.5</td>\n",
       "    </tr>\n",
       "    <tr>\n",
       "      <th>3</th>\n",
       "      <td>4</td>\n",
       "      <td>Smart Ones Classic Favorites Mini Rigatoni Wit...</td>\n",
       "      <td>38</td>\n",
       "      <td>1</td>\n",
       "      <td>10.5</td>\n",
       "    </tr>\n",
       "    <tr>\n",
       "      <th>4</th>\n",
       "      <td>5</td>\n",
       "      <td>Green Chile Anytime Sauce</td>\n",
       "      <td>5</td>\n",
       "      <td>13</td>\n",
       "      <td>4.3</td>\n",
       "    </tr>\n",
       "    <tr>\n",
       "      <th>...</th>\n",
       "      <td>...</td>\n",
       "      <td>...</td>\n",
       "      <td>...</td>\n",
       "      <td>...</td>\n",
       "      <td>...</td>\n",
       "    </tr>\n",
       "    <tr>\n",
       "      <th>49667</th>\n",
       "      <td>49684</td>\n",
       "      <td>Vodka, Triple Distilled, Twist of Vanilla</td>\n",
       "      <td>124</td>\n",
       "      <td>5</td>\n",
       "      <td>5.3</td>\n",
       "    </tr>\n",
       "    <tr>\n",
       "      <th>49668</th>\n",
       "      <td>49685</td>\n",
       "      <td>En Croute Roast Hazelnut Cranberry</td>\n",
       "      <td>42</td>\n",
       "      <td>1</td>\n",
       "      <td>3.1</td>\n",
       "    </tr>\n",
       "    <tr>\n",
       "      <th>49669</th>\n",
       "      <td>49686</td>\n",
       "      <td>Artisan Baguette</td>\n",
       "      <td>112</td>\n",
       "      <td>3</td>\n",
       "      <td>7.8</td>\n",
       "    </tr>\n",
       "    <tr>\n",
       "      <th>49670</th>\n",
       "      <td>49687</td>\n",
       "      <td>Smartblend Healthy Metabolism Dry Cat Food</td>\n",
       "      <td>41</td>\n",
       "      <td>8</td>\n",
       "      <td>4.7</td>\n",
       "    </tr>\n",
       "    <tr>\n",
       "      <th>49671</th>\n",
       "      <td>49688</td>\n",
       "      <td>Fresh Foaming Cleanser</td>\n",
       "      <td>73</td>\n",
       "      <td>11</td>\n",
       "      <td>13.5</td>\n",
       "    </tr>\n",
       "  </tbody>\n",
       "</table>\n",
       "<p>49672 rows × 5 columns</p>\n",
       "</div>"
      ],
      "text/plain": [
       "       product_id                                       product_name  \\\n",
       "0               1                         Chocolate Sandwich Cookies   \n",
       "1               2                                   All-Seasons Salt   \n",
       "2               3               Robust Golden Unsweetened Oolong Tea   \n",
       "3               4  Smart Ones Classic Favorites Mini Rigatoni Wit...   \n",
       "4               5                          Green Chile Anytime Sauce   \n",
       "...           ...                                                ...   \n",
       "49667       49684          Vodka, Triple Distilled, Twist of Vanilla   \n",
       "49668       49685                 En Croute Roast Hazelnut Cranberry   \n",
       "49669       49686                                   Artisan Baguette   \n",
       "49670       49687         Smartblend Healthy Metabolism Dry Cat Food   \n",
       "49671       49688                             Fresh Foaming Cleanser   \n",
       "\n",
       "       aisle_id  department_id  prices  \n",
       "0            61             19     5.8  \n",
       "1           104             13     9.3  \n",
       "2            94              7     4.5  \n",
       "3            38              1    10.5  \n",
       "4             5             13     4.3  \n",
       "...         ...            ...     ...  \n",
       "49667       124              5     5.3  \n",
       "49668        42              1     3.1  \n",
       "49669       112              3     7.8  \n",
       "49670        41              8     4.7  \n",
       "49671        73             11    13.5  \n",
       "\n",
       "[49672 rows x 5 columns]"
      ]
     },
     "execution_count": 10,
     "metadata": {},
     "output_type": "execute_result"
    }
   ],
   "source": [
    "#drop unnamed:0 column in products df\n",
    "df2.drop(columns = ['Unnamed: 0'])"
   ]
  },
  {
   "cell_type": "code",
   "execution_count": 11,
   "id": "4cceb6a9",
   "metadata": {},
   "outputs": [],
   "source": [
    "#finalize dropping of column\n",
    "df2 = df2.drop(columns = ['Unnamed: 0'])"
   ]
  },
  {
   "cell_type": "code",
   "execution_count": 12,
   "id": "6bfd4a76",
   "metadata": {},
   "outputs": [
    {
     "data": {
      "text/plain": [
       "(49672, 5)"
      ]
     },
     "execution_count": 12,
     "metadata": {},
     "output_type": "execute_result"
    }
   ],
   "source": [
    "df2.shape"
   ]
  },
  {
   "cell_type": "markdown",
   "id": "d6695656",
   "metadata": {},
   "source": [
    "# 02. Merge Data"
   ]
  },
  {
   "cell_type": "code",
   "execution_count": 13,
   "id": "337f6e92",
   "metadata": {},
   "outputs": [],
   "source": [
    "# Task 5 - merge with products data\n",
    "df_merged = orders_products_combined.merge(df2, on = 'product_id')"
   ]
  },
  {
   "cell_type": "code",
   "execution_count": 14,
   "id": "6d0b6f33",
   "metadata": {},
   "outputs": [
    {
     "data": {
      "text/html": [
       "<div>\n",
       "<style scoped>\n",
       "    .dataframe tbody tr th:only-of-type {\n",
       "        vertical-align: middle;\n",
       "    }\n",
       "\n",
       "    .dataframe tbody tr th {\n",
       "        vertical-align: top;\n",
       "    }\n",
       "\n",
       "    .dataframe thead th {\n",
       "        text-align: right;\n",
       "    }\n",
       "</style>\n",
       "<table border=\"1\" class=\"dataframe\">\n",
       "  <thead>\n",
       "    <tr style=\"text-align: right;\">\n",
       "      <th></th>\n",
       "      <th>order_id</th>\n",
       "      <th>user_id</th>\n",
       "      <th>order_number</th>\n",
       "      <th>orders_day_of_week</th>\n",
       "      <th>order_time</th>\n",
       "      <th>days_since_prior_order</th>\n",
       "      <th>product_id</th>\n",
       "      <th>add_to_cart_order</th>\n",
       "      <th>reordered</th>\n",
       "      <th>_merge</th>\n",
       "      <th>product_name</th>\n",
       "      <th>aisle_id</th>\n",
       "      <th>department_id</th>\n",
       "      <th>prices</th>\n",
       "    </tr>\n",
       "  </thead>\n",
       "  <tbody>\n",
       "    <tr>\n",
       "      <th>0</th>\n",
       "      <td>2539329</td>\n",
       "      <td>1</td>\n",
       "      <td>1</td>\n",
       "      <td>2</td>\n",
       "      <td>8</td>\n",
       "      <td>NaN</td>\n",
       "      <td>196</td>\n",
       "      <td>1</td>\n",
       "      <td>0</td>\n",
       "      <td>both</td>\n",
       "      <td>Soda</td>\n",
       "      <td>77</td>\n",
       "      <td>7</td>\n",
       "      <td>9.0</td>\n",
       "    </tr>\n",
       "    <tr>\n",
       "      <th>1</th>\n",
       "      <td>2398795</td>\n",
       "      <td>1</td>\n",
       "      <td>2</td>\n",
       "      <td>3</td>\n",
       "      <td>7</td>\n",
       "      <td>15.0</td>\n",
       "      <td>196</td>\n",
       "      <td>1</td>\n",
       "      <td>1</td>\n",
       "      <td>both</td>\n",
       "      <td>Soda</td>\n",
       "      <td>77</td>\n",
       "      <td>7</td>\n",
       "      <td>9.0</td>\n",
       "    </tr>\n",
       "    <tr>\n",
       "      <th>2</th>\n",
       "      <td>473747</td>\n",
       "      <td>1</td>\n",
       "      <td>3</td>\n",
       "      <td>3</td>\n",
       "      <td>12</td>\n",
       "      <td>21.0</td>\n",
       "      <td>196</td>\n",
       "      <td>1</td>\n",
       "      <td>1</td>\n",
       "      <td>both</td>\n",
       "      <td>Soda</td>\n",
       "      <td>77</td>\n",
       "      <td>7</td>\n",
       "      <td>9.0</td>\n",
       "    </tr>\n",
       "    <tr>\n",
       "      <th>3</th>\n",
       "      <td>2254736</td>\n",
       "      <td>1</td>\n",
       "      <td>4</td>\n",
       "      <td>4</td>\n",
       "      <td>7</td>\n",
       "      <td>29.0</td>\n",
       "      <td>196</td>\n",
       "      <td>1</td>\n",
       "      <td>1</td>\n",
       "      <td>both</td>\n",
       "      <td>Soda</td>\n",
       "      <td>77</td>\n",
       "      <td>7</td>\n",
       "      <td>9.0</td>\n",
       "    </tr>\n",
       "    <tr>\n",
       "      <th>4</th>\n",
       "      <td>431534</td>\n",
       "      <td>1</td>\n",
       "      <td>5</td>\n",
       "      <td>4</td>\n",
       "      <td>15</td>\n",
       "      <td>28.0</td>\n",
       "      <td>196</td>\n",
       "      <td>1</td>\n",
       "      <td>1</td>\n",
       "      <td>both</td>\n",
       "      <td>Soda</td>\n",
       "      <td>77</td>\n",
       "      <td>7</td>\n",
       "      <td>9.0</td>\n",
       "    </tr>\n",
       "  </tbody>\n",
       "</table>\n",
       "</div>"
      ],
      "text/plain": [
       "   order_id  user_id  order_number  orders_day_of_week  order_time  \\\n",
       "0   2539329        1             1                   2           8   \n",
       "1   2398795        1             2                   3           7   \n",
       "2    473747        1             3                   3          12   \n",
       "3   2254736        1             4                   4           7   \n",
       "4    431534        1             5                   4          15   \n",
       "\n",
       "   days_since_prior_order  product_id  add_to_cart_order  reordered _merge  \\\n",
       "0                     NaN         196                  1          0   both   \n",
       "1                    15.0         196                  1          1   both   \n",
       "2                    21.0         196                  1          1   both   \n",
       "3                    29.0         196                  1          1   both   \n",
       "4                    28.0         196                  1          1   both   \n",
       "\n",
       "  product_name  aisle_id  department_id  prices  \n",
       "0         Soda        77              7     9.0  \n",
       "1         Soda        77              7     9.0  \n",
       "2         Soda        77              7     9.0  \n",
       "3         Soda        77              7     9.0  \n",
       "4         Soda        77              7     9.0  "
      ]
     },
     "execution_count": 14,
     "metadata": {},
     "output_type": "execute_result"
    }
   ],
   "source": [
    "df_merged.head()"
   ]
  },
  {
   "cell_type": "code",
   "execution_count": 15,
   "id": "a5190fc6",
   "metadata": {},
   "outputs": [
    {
     "data": {
      "text/plain": [
       "_merge\n",
       "both          32404859\n",
       "left_only            0\n",
       "right_only           0\n",
       "Name: count, dtype: int64"
      ]
     },
     "execution_count": 15,
     "metadata": {},
     "output_type": "execute_result"
    }
   ],
   "source": [
    "# Task 6 - confirm results with merge flag\n",
    "df_merged['_merge'].value_counts()"
   ]
  },
  {
   "cell_type": "markdown",
   "id": "ac263807",
   "metadata": {},
   "source": [
    "# 03. Export Dataframes"
   ]
  },
  {
   "cell_type": "code",
   "execution_count": 16,
   "id": "9bc59a26",
   "metadata": {},
   "outputs": [],
   "source": [
    "# Task 7 - export df_merged as orders_products_merged\n",
    "df_merged.to_pickle(os.path.join(path, '02 Data','Prepared Data', 'orders_products_merged.pkl'))"
   ]
  },
  {
   "cell_type": "code",
   "execution_count": null,
   "id": "d5827510",
   "metadata": {},
   "outputs": [],
   "source": []
  }
 ],
 "metadata": {
  "kernelspec": {
   "display_name": "Python 3 (ipykernel)",
   "language": "python",
   "name": "python3"
  },
  "language_info": {
   "codemirror_mode": {
    "name": "ipython",
    "version": 3
   },
   "file_extension": ".py",
   "mimetype": "text/x-python",
   "name": "python",
   "nbconvert_exporter": "python",
   "pygments_lexer": "ipython3",
   "version": "3.11.4"
  }
 },
 "nbformat": 4,
 "nbformat_minor": 5
}
